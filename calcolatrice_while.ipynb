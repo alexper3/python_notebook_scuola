{
 "cells": [
  {
   "cell_type": "code",
   "execution_count": null,
   "id": "8499e3cf-2c26-4059-a53c-89c1dfa03d68",
   "metadata": {},
   "outputs": [
    {
     "name": "stdout",
     "output_type": "stream",
     "text": [
      "\n",
      "hai aperto il programma *calcolatrice*\n",
      "\n",
      "di seguito un elenco delle funzioni disponibili\n",
      "\n",
      "- per fare una somma premere *1*;\n",
      "- per fare una sottrazione premere *2*;\n",
      "- per fare una moltiplicazione premere *3*;\n",
      "- per fare una divisione premere *4*;\n",
      "- per fare un calcolo esponenziale premere *5*;\n",
      "- per fare una radice quadrata premere *6*;\n",
      "\n"
     ]
    },
    {
     "name": "stdin",
     "output_type": "stream",
     "text": [
      "inserisci il numero selezionato  2\n"
     ]
    },
    {
     "name": "stdout",
     "output_type": "stream",
     "text": [
      "hai scelto la sottrazione \n"
     ]
    },
    {
     "name": "stdin",
     "output_type": "stream",
     "text": [
      "inserisci il primo numero  2\n",
      "inserisci il secondo numero  3\n"
     ]
    },
    {
     "name": "stdout",
     "output_type": "stream",
     "text": [
      "il risultato è:  -1.0\n"
     ]
    },
    {
     "name": "stdin",
     "output_type": "stream",
     "text": [
      "vuoi fare un altro calcolo S/N  \n"
     ]
    },
    {
     "name": "stdout",
     "output_type": "stream",
     "text": [
      "\n",
      "hai aperto il programma *calcolatrice*\n",
      "\n",
      "di seguito un elenco delle funzioni disponibili\n",
      "\n",
      "- per fare una somma premere *1*;\n",
      "- per fare una sottrazione premere *2*;\n",
      "- per fare una moltiplicazione premere *3*;\n",
      "- per fare una divisione premere *4*;\n",
      "- per fare un calcolo esponenziale premere *5*;\n",
      "- per fare una radice quadrata premere *6*;\n",
      "\n"
     ]
    }
   ],
   "source": [
    "from math import sqrt\n",
    "\n",
    "start_message = \"\"\"\n",
    "hai aperto il programma *calcolatrice*\n",
    "\n",
    "di seguito un elenco delle funzioni disponibili\n",
    "\n",
    "- per fare una somma premere *1*;\n",
    "- per fare una sottrazione premere *2*;\n",
    "- per fare una moltiplicazione premere *3*;\n",
    "- per fare una divisione premere *4*;\n",
    "- per fare un calcolo esponenziale premere *5*;\n",
    "- per fare una radice quadrata premere *6*;\n",
    "\"\"\"\n",
    "\n",
    "while True:\n",
    "    print(start_message)\n",
    "    action = input(\"inserisci il numero selezionato \")\n",
    "    if action == \"1\":       #funzione per la somma\n",
    "        print(\"hai scelto la somma \")\n",
    "        a = (float(input(\"inserisci il primo numero \")))\n",
    "        b = (float(input(\"inserisci il secondo numero \")))\n",
    "        print(\"il risultato è: \" , a  +  b )\n",
    "\n",
    "    elif action == \"2\":     #funzione per la sottrazione\n",
    "        print(\"hai scelto la sottrazione \")\n",
    "        a = (float(input(\"inserisci il primo numero \")))\n",
    "        b = (float(input(\"inserisci il secondo numero \")))\n",
    "        print(\"il risultato è: \" , a  -  b )\n",
    "\n",
    "    elif action == \"3\":     #funzione per la moltiplicazione\n",
    "        print(\"hai scelto la moltiplicazione \")\n",
    "        a = (float(input(\"inserisci il primo numero \")))\n",
    "        b = (float(input(\"inserisci il secondo numero \")))\n",
    "        print(\"il risultato è: \" , a  *  b )\n",
    "\n",
    "    elif action == \"4\":     #funzione per la divisione\n",
    "        print(\"hai scelto la divisione \")\n",
    "        a = (float(input(\"inserisci il primo numero \")))\n",
    "        b = (float(input(\"inserisci il secondo numero \")))\n",
    "        print(\"il risultato è: \" , a  /  b )\n",
    "\n",
    "    elif action == \"5\":     #funzione per il calcolo esponenziale\n",
    "        print(\"hai scelto la calcolo esponenziale \")\n",
    "        a = (float(input(\"inserisci il primo numero \")))\n",
    "        b = (float(input(\"inserisci il secondo numero \")))\n",
    "        print(\"il risultato è: \" , sqrt(a ** b) )\n",
    "\n",
    "    elif action == \"6\":     #funzione per la radicie quadrata\n",
    "        print(\"hai scelto la radicie quadrata \")\n",
    "        a = (float(input(\"inserisci numero \")))\n",
    "        print(\"il risultato è: \" , sqrt(a) )\n",
    "\n",
    "\n",
    "    ricomincia = input(\"vuoi fare un altro calcolo S/N \")\n",
    "    if ricomincia == \"S\" or ricomincia == \"s\":\n",
    "        print(\"torno all'inizio \")\n",
    "        continue\n",
    "    elif ricomincia == \"N\" or ricomincia == \"n\":\n",
    "        print(\"mi sto chiudendo \")\n",
    "        break\n",
    "\n",
    "\n",
    "\n"
   ]
  },
  {
   "cell_type": "code",
   "execution_count": null,
   "id": "041d7fcf-e9b0-45df-9fb9-2c5a9d1c1b66",
   "metadata": {},
   "outputs": [],
   "source": []
  }
 ],
 "metadata": {
  "kernelspec": {
   "display_name": "Python 3 (ipykernel)",
   "language": "python",
   "name": "python3"
  },
  "language_info": {
   "codemirror_mode": {
    "name": "ipython",
    "version": 3
   },
   "file_extension": ".py",
   "mimetype": "text/x-python",
   "name": "python",
   "nbconvert_exporter": "python",
   "pygments_lexer": "ipython3",
   "version": "3.8.16"
  }
 },
 "nbformat": 4,
 "nbformat_minor": 5
}
